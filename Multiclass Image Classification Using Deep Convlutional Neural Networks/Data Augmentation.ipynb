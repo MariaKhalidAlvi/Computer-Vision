{
 "cells": [
  {
   "cell_type": "code",
   "execution_count": 38,
   "metadata": {},
   "outputs": [],
   "source": [
    "import Augmentor\n",
    "import os"
   ]
  },
  {
   "cell_type": "code",
   "execution_count": 39,
   "metadata": {},
   "outputs": [],
   "source": [
    "test_path = r\"Data Set\\Test\"\n",
    "train_path = r\"Data Set\\Train\""
   ]
  },
  {
   "cell_type": "markdown",
   "metadata": {},
   "source": [
    "# Train Data Augmentation\n",
    "\n",
    "### Data generation for Millary TB Xrays "
   ]
  },
  {
   "cell_type": "code",
   "execution_count": 14,
   "metadata": {},
   "outputs": [
    {
     "name": "stdout",
     "output_type": "stream",
     "text": [
      "Initialised with 4 image(s) found.\n",
      "Output directory set to Data Set\\Train\\Millary TB Xrays\\output."
     ]
    }
   ],
   "source": [
    "millary_path = os.path.join(train_path,\"Millary TB Xrays\")\n",
    "p = Augmentor.Pipeline(millary_path)"
   ]
  },
  {
   "cell_type": "code",
   "execution_count": 15,
   "metadata": {},
   "outputs": [
    {
     "name": "stderr",
     "output_type": "stream",
     "text": [
      "Processing <PIL.Image.Image image mode=L size=1800x1303 at 0x2A2F1460748>: 100%|█| 1000/1000 [07:41<00:00,  2.16 Sample\n"
     ]
    }
   ],
   "source": [
    "p.set_seed(100)\n",
    "p.rotate(probability=0.5, max_left_rotation=10 , max_right_rotation=10)\n",
    "p.zoom(probability=0.4, min_factor=0.5, max_factor=1.0)\n",
    "p.flip_left_right(probability=0.4)\n",
    "p.random_distortion(probability=0.5, grid_width=6, grid_height=6, magnitude=3)\n",
    "p.sample(1000)"
   ]
  },
  {
   "cell_type": "markdown",
   "metadata": {},
   "source": [
    "### Data generation for Cavitry TB Xrays"
   ]
  },
  {
   "cell_type": "code",
   "execution_count": 16,
   "metadata": {},
   "outputs": [
    {
     "name": "stdout",
     "output_type": "stream",
     "text": [
      "Initialised with 12 image(s) found.\n",
      "Output directory set to Data Set\\Train\\Cavitry TB Xrays\\output."
     ]
    }
   ],
   "source": [
    "cavitry_path =  os.path.join(train_path,\"Cavitry TB Xrays\")\n",
    "p = Augmentor.Pipeline(cavitry_path)"
   ]
  },
  {
   "cell_type": "code",
   "execution_count": 17,
   "metadata": {},
   "outputs": [
    {
     "name": "stderr",
     "output_type": "stream",
     "text": [
      "Processing <PIL.Image.Image image mode=L size=4020x4892 at 0x2A284851948>: 100%|█| 1000/1000 [25:50<00:00,  1.55s/ Samp\n"
     ]
    }
   ],
   "source": [
    "p.set_seed(100)\n",
    "p.rotate(probability=0.3, max_left_rotation=5 , max_right_rotation=5)\n",
    "p.zoom(probability=0.3, min_factor=0.5, max_factor=1.0)\n",
    "p.flip_left_right(probability=0.4)\n",
    "p.random_distortion(probability=0.5, grid_width=6, grid_height=6, magnitude=3)\n",
    "p.sample(1000)"
   ]
  },
  {
   "cell_type": "markdown",
   "metadata": {},
   "source": [
    "### Data generation for Normal"
   ]
  },
  {
   "cell_type": "code",
   "execution_count": 18,
   "metadata": {},
   "outputs": [
    {
     "name": "stdout",
     "output_type": "stream",
     "text": [
      "Initialised with 68 image(s) found.\n",
      "Output directory set to Data Set\\Train\\Normal\\output."
     ]
    }
   ],
   "source": [
    "normal_path =  os.path.join(train_path,\"Normal\")\n",
    "p = Augmentor.Pipeline(normal_path)"
   ]
  },
  {
   "cell_type": "code",
   "execution_count": 19,
   "metadata": {
    "scrolled": true
   },
   "outputs": [
    {
     "name": "stderr",
     "output_type": "stream",
     "text": [
      "Processing <PIL.Image.Image image mode=L size=4892x4020 at 0x2A28909C048>: 100%|█| 1000/1000 [21:21<00:00,  1.28s/ Samp\n"
     ]
    }
   ],
   "source": [
    "p.set_seed(100) \n",
    "p.rotate(probability=0.3, max_left_rotation=5 , max_right_rotation=5)\n",
    "p.zoom(probability=0.3, min_factor=0.5, max_factor=1.0)\n",
    "p.flip_left_right(probability=0.4)\n",
    "p.random_distortion(probability=0.5, grid_width=6, grid_height=6, magnitude=3)\n",
    "p.sample(1000)"
   ]
  },
  {
   "cell_type": "markdown",
   "metadata": {},
   "source": [
    "### Renaming data according to class name and moving in train folder"
   ]
  },
  {
   "cell_type": "code",
   "execution_count": 20,
   "metadata": {},
   "outputs": [],
   "source": [
    "train_path  = os.path.join(train_path,\"trainData\")"
   ]
  },
  {
   "cell_type": "code",
   "execution_count": 21,
   "metadata": {},
   "outputs": [],
   "source": [
    "if not os.path.exists(train_path):\n",
    "    os.makedirs(train_path)\n",
    "else:\n",
    "    print(\"Directory already exists\")"
   ]
  },
  {
   "cell_type": "markdown",
   "metadata": {},
   "source": [
    "### For Millary"
   ]
  },
  {
   "cell_type": "code",
   "execution_count": 22,
   "metadata": {},
   "outputs": [],
   "source": [
    "if os.path.exists(os.path.join(millary_path, \"output\")):\n",
    "    files = os.listdir(os.path.join(millary_path, \"output\"))\n",
    "\n",
    "    for index, file in enumerate(files):\n",
    "        os.rename(os.path.join(millary_path, \"output\", file), os.path.join(train_path, ''.join([\"Millary \"+str(index), '.png'])))\n",
    "else :\n",
    "    print(\"Output folder doesot exist\")"
   ]
  },
  {
   "cell_type": "markdown",
   "metadata": {},
   "source": [
    "### For Cavilary"
   ]
  },
  {
   "cell_type": "code",
   "execution_count": 23,
   "metadata": {},
   "outputs": [],
   "source": [
    "if os.path.exists(os.path.join(cavitry_path, \"output\")):\n",
    "    files = os.listdir(os.path.join(cavitry_path, \"output\"))\n",
    "    for index, file in enumerate(files):\n",
    "        os.rename(os.path.join(cavitry_path, \"output\", file), os.path.join(train_path, ''.join([\"Cavitry \"+str(index), '.png'])))\n",
    "else :\n",
    "    print(\"Output folder doesot exist\")"
   ]
  },
  {
   "cell_type": "markdown",
   "metadata": {},
   "source": [
    "### For Normal"
   ]
  },
  {
   "cell_type": "code",
   "execution_count": 24,
   "metadata": {},
   "outputs": [],
   "source": [
    "if os.path.exists(os.path.join(normal_path, \"output\")):\n",
    "    files = os.listdir(os.path.join(normal_path, \"output\"))\n",
    "\n",
    "    for index, file in enumerate(files):\n",
    "        os.rename(os.path.join(normal_path, \"output\", file), os.path.join(train_path, ''.join([\"Normal \"+str(index), '.png'])))\n",
    "else :\n",
    "    print(\"Output folder doesot exist\")"
   ]
  },
  {
   "cell_type": "markdown",
   "metadata": {},
   "source": [
    "# Test Data Augmentation\n",
    "\n",
    "### Data generation for Millary TB Xrays "
   ]
  },
  {
   "cell_type": "code",
   "execution_count": 40,
   "metadata": {},
   "outputs": [
    {
     "name": "stdout",
     "output_type": "stream",
     "text": [
      "Initialised with 1 image(s) found.\n",
      "Output directory set to Data Set\\Test\\Millary TB Xrays\\output."
     ]
    }
   ],
   "source": [
    "millary_path = os.path.join(test_path,\"Millary TB Xrays\")\n",
    "p = Augmentor.Pipeline(millary_path)"
   ]
  },
  {
   "cell_type": "code",
   "execution_count": 41,
   "metadata": {},
   "outputs": [
    {
     "name": "stderr",
     "output_type": "stream",
     "text": [
      "Processing <PIL.Image.Image image mode=RGB size=700x737 at 0x2A289070248>: 100%|█| 15/15 [00:00<00:00, 40.63 Samples/s]\n"
     ]
    }
   ],
   "source": [
    "p.set_seed(100)\n",
    "p.rotate(probability=0.5, max_left_rotation=10 , max_right_rotation=10)\n",
    "p.zoom(probability=0.4, min_factor=0.5, max_factor=1.0)\n",
    "p.flip_left_right(probability=0.4)\n",
    "p.random_distortion(probability=0.5, grid_width=6, grid_height=6, magnitude=3)\n",
    "p.sample(15)"
   ]
  },
  {
   "cell_type": "markdown",
   "metadata": {},
   "source": [
    "### Data generation for Cavitry TB Xrays"
   ]
  },
  {
   "cell_type": "code",
   "execution_count": 42,
   "metadata": {},
   "outputs": [
    {
     "name": "stdout",
     "output_type": "stream",
     "text": [
      "Initialised with 2 image(s) found.\n",
      "Output directory set to Data Set\\Test\\Cavitry TB Xrays\\output."
     ]
    }
   ],
   "source": [
    "cavitry_path =  os.path.join(test_path,\"Cavitry TB Xrays\")\n",
    "p = Augmentor.Pipeline(cavitry_path)"
   ]
  },
  {
   "cell_type": "code",
   "execution_count": 43,
   "metadata": {},
   "outputs": [
    {
     "name": "stderr",
     "output_type": "stream",
     "text": [
      "Processing <PIL.Image.Image image mode=L size=4020x4892 at 0x2A28909C2C8>: 100%|█| 15/15 [00:13<00:00,  1.12 Samples/s]\n"
     ]
    }
   ],
   "source": [
    "p.set_seed(100)\n",
    "p.rotate(probability=0.3, max_left_rotation=5 , max_right_rotation=5)\n",
    "p.zoom(probability=0.3, min_factor=0.5, max_factor=1.0)\n",
    "p.flip_left_right(probability=0.4)\n",
    "p.random_distortion(probability=0.5, grid_width=6, grid_height=6, magnitude=3)\n",
    "p.sample(15)"
   ]
  },
  {
   "cell_type": "markdown",
   "metadata": {},
   "source": [
    "### Data generation for Normal"
   ]
  },
  {
   "cell_type": "code",
   "execution_count": 44,
   "metadata": {},
   "outputs": [
    {
     "name": "stdout",
     "output_type": "stream",
     "text": [
      "Initialised with 12 image(s) found.\n",
      "Output directory set to Data Set\\Test\\Normal\\output."
     ]
    }
   ],
   "source": [
    "normal_path =  os.path.join(test_path,\"Normal\")\n",
    "p = Augmentor.Pipeline(normal_path)"
   ]
  },
  {
   "cell_type": "code",
   "execution_count": 45,
   "metadata": {},
   "outputs": [
    {
     "name": "stderr",
     "output_type": "stream",
     "text": [
      "Processing <PIL.Image.Image image mode=L size=4892x4020 at 0x2A289136048>: 100%|█| 15/15 [00:12<00:00,  1.18 Samples/s]\n"
     ]
    }
   ],
   "source": [
    "p.set_seed(100) \n",
    "p.rotate(probability=0.3, max_left_rotation=5 , max_right_rotation=5)\n",
    "p.zoom(probability=0.3, min_factor=0.5, max_factor=1.0)\n",
    "p.flip_left_right(probability=0.4)\n",
    "p.random_distortion(probability=0.5, grid_width=6, grid_height=6, magnitude=3)\n",
    "p.sample(15)"
   ]
  },
  {
   "cell_type": "markdown",
   "metadata": {},
   "source": [
    "### Renaming data according to class name and moving in train folder"
   ]
  },
  {
   "cell_type": "code",
   "execution_count": 46,
   "metadata": {},
   "outputs": [],
   "source": [
    "test_path  = os.path.join(test_path,\"testData\")"
   ]
  },
  {
   "cell_type": "code",
   "execution_count": 47,
   "metadata": {},
   "outputs": [],
   "source": [
    "if not os.path.exists(test_path):\n",
    "    os.makedirs(test_path)\n",
    "else:\n",
    "    print(\"Directory already exists\")"
   ]
  },
  {
   "cell_type": "markdown",
   "metadata": {},
   "source": [
    "### For Millary"
   ]
  },
  {
   "cell_type": "code",
   "execution_count": 48,
   "metadata": {},
   "outputs": [],
   "source": [
    "if os.path.exists(os.path.join(millary_path, \"output\")):\n",
    "    files = os.listdir(os.path.join(millary_path, \"output\"))\n",
    "\n",
    "    for index, file in enumerate(files):\n",
    "        os.rename(os.path.join(millary_path, \"output\", file), os.path.join(test_path, ''.join([\"Millary \"+str(index), '.png'])))\n",
    "else :\n",
    "    print(\"Output folder doesot exist\")"
   ]
  },
  {
   "cell_type": "markdown",
   "metadata": {},
   "source": [
    "### For Cavilary"
   ]
  },
  {
   "cell_type": "code",
   "execution_count": 49,
   "metadata": {},
   "outputs": [],
   "source": [
    "if os.path.exists(os.path.join(cavitry_path, \"output\")):\n",
    "    files = os.listdir(os.path.join(cavitry_path, \"output\"))\n",
    "    for index, file in enumerate(files):\n",
    "        os.rename(os.path.join(cavitry_path, \"output\", file), os.path.join(test_path, ''.join([\"Cavitry \"+str(index), '.png'])))\n",
    "else :\n",
    "    print(\"Output folder doesot exist\")"
   ]
  },
  {
   "cell_type": "markdown",
   "metadata": {},
   "source": [
    "### For Normal"
   ]
  },
  {
   "cell_type": "code",
   "execution_count": 50,
   "metadata": {},
   "outputs": [],
   "source": [
    "if os.path.exists(os.path.join(normal_path, \"output\")):\n",
    "    files = os.listdir(os.path.join(normal_path, \"output\"))\n",
    "\n",
    "    for index, file in enumerate(files):\n",
    "        os.rename(os.path.join(normal_path, \"output\", file), os.path.join(test_path, ''.join([\"Normal \"+str(index), '.png'])))\n",
    "else :\n",
    "    print(\"Output folder doesot exist\")"
   ]
  },
  {
   "cell_type": "code",
   "execution_count": null,
   "metadata": {},
   "outputs": [],
   "source": []
  },
  {
   "cell_type": "code",
   "execution_count": null,
   "metadata": {},
   "outputs": [],
   "source": []
  },
  {
   "cell_type": "code",
   "execution_count": null,
   "metadata": {},
   "outputs": [],
   "source": []
  }
 ],
 "metadata": {
  "kernelspec": {
   "display_name": "Python 3",
   "language": "python",
   "name": "python3"
  },
  "language_info": {
   "codemirror_mode": {
    "name": "ipython",
    "version": 3
   },
   "file_extension": ".py",
   "mimetype": "text/x-python",
   "name": "python",
   "nbconvert_exporter": "python",
   "pygments_lexer": "ipython3",
   "version": "3.7.7"
  }
 },
 "nbformat": 4,
 "nbformat_minor": 2
}
