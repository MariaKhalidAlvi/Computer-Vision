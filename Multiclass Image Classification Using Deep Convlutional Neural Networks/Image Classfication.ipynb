{
 "cells": [
  {
   "cell_type": "markdown",
   "metadata": {},
   "source": [
    "# Image Classfier for Multiclass problem on tuberculosis data classiying 'Normal', 'Cavitry' and 'Millary'"
   ]
  },
  {
   "cell_type": "markdown",
   "metadata": {},
   "source": [
    "# Use Data Augment Notebook to Augment data First"
   ]
  },
  {
   "cell_type": "code",
   "execution_count": 1,
   "metadata": {},
   "outputs": [
    {
     "name": "stderr",
     "output_type": "stream",
     "text": [
      "Using TensorFlow backend.\n"
     ]
    }
   ],
   "source": [
    "#Liberaries\n",
    "import numpy as np\n",
    "import pandas as pd \n",
    "from keras.preprocessing.image import ImageDataGenerator, load_img\n",
    "from keras.utils import to_categorical\n",
    "from sklearn.model_selection import train_test_split\n",
    "import matplotlib.pyplot as plt\n",
    "import random\n",
    "import os\n",
    "from keras.models import Sequential , load_model\n",
    "from keras.layers import Conv2D, MaxPooling2D, Dropout, Flatten, Dense, Activation, BatchNormalization\n",
    "from keras.callbacks import EarlyStopping, ReduceLROnPlateau, ModelCheckpoint\n",
    "from sklearn.metrics import classification_report, confusion_matrix\n",
    "import os\n",
    "import tensorflow as tf"
   ]
  },
  {
   "cell_type": "code",
   "execution_count": 22,
   "metadata": {},
   "outputs": [],
   "source": [
    "#path for train data\n",
    "dataset_path_train = r\"Data Set\\Train\\trainData\""
   ]
  },
  {
   "cell_type": "code",
   "execution_count": 23,
   "metadata": {
    "scrolled": false
   },
   "outputs": [],
   "source": [
    "#create dataframe for train data\n",
    "filenames = os.listdir(dataset_path_train)\n",
    "categories = []\n",
    "for filename in filenames:\n",
    "    category = filename.split(\" \")[0]\n",
    "    if category == 'Normal':\n",
    "        categories.append('Normal')\n",
    "    elif category == 'Cavitry':\n",
    "        categories.append('Cavitry')\n",
    "    elif category == \"Millary\":\n",
    "        categories.append('Millary')\n",
    "\n",
    "df = pd.DataFrame({\n",
    "    'filename': filenames,\n",
    "    'category': categories\n",
    "})"
   ]
  },
  {
   "cell_type": "code",
   "execution_count": 24,
   "metadata": {},
   "outputs": [
    {
     "data": {
      "text/html": [
       "<div>\n",
       "<style scoped>\n",
       "    .dataframe tbody tr th:only-of-type {\n",
       "        vertical-align: middle;\n",
       "    }\n",
       "\n",
       "    .dataframe tbody tr th {\n",
       "        vertical-align: top;\n",
       "    }\n",
       "\n",
       "    .dataframe thead th {\n",
       "        text-align: right;\n",
       "    }\n",
       "</style>\n",
       "<table border=\"1\" class=\"dataframe\">\n",
       "  <thead>\n",
       "    <tr style=\"text-align: right;\">\n",
       "      <th></th>\n",
       "      <th>filename</th>\n",
       "      <th>category</th>\n",
       "    </tr>\n",
       "  </thead>\n",
       "  <tbody>\n",
       "    <tr>\n",
       "      <th>0</th>\n",
       "      <td>Cavitry 0.png</td>\n",
       "      <td>Cavitry</td>\n",
       "    </tr>\n",
       "    <tr>\n",
       "      <th>1</th>\n",
       "      <td>Cavitry 1.png</td>\n",
       "      <td>Cavitry</td>\n",
       "    </tr>\n",
       "    <tr>\n",
       "      <th>2</th>\n",
       "      <td>Cavitry 10.png</td>\n",
       "      <td>Cavitry</td>\n",
       "    </tr>\n",
       "    <tr>\n",
       "      <th>3</th>\n",
       "      <td>Cavitry 100.png</td>\n",
       "      <td>Cavitry</td>\n",
       "    </tr>\n",
       "    <tr>\n",
       "      <th>4</th>\n",
       "      <td>Cavitry 101.png</td>\n",
       "      <td>Cavitry</td>\n",
       "    </tr>\n",
       "    <tr>\n",
       "      <th>5</th>\n",
       "      <td>Cavitry 102.png</td>\n",
       "      <td>Cavitry</td>\n",
       "    </tr>\n",
       "    <tr>\n",
       "      <th>6</th>\n",
       "      <td>Cavitry 103.png</td>\n",
       "      <td>Cavitry</td>\n",
       "    </tr>\n",
       "    <tr>\n",
       "      <th>7</th>\n",
       "      <td>Cavitry 104.png</td>\n",
       "      <td>Cavitry</td>\n",
       "    </tr>\n",
       "    <tr>\n",
       "      <th>8</th>\n",
       "      <td>Cavitry 105.png</td>\n",
       "      <td>Cavitry</td>\n",
       "    </tr>\n",
       "    <tr>\n",
       "      <th>9</th>\n",
       "      <td>Cavitry 106.png</td>\n",
       "      <td>Cavitry</td>\n",
       "    </tr>\n",
       "  </tbody>\n",
       "</table>\n",
       "</div>"
      ],
      "text/plain": [
       "          filename category\n",
       "0    Cavitry 0.png  Cavitry\n",
       "1    Cavitry 1.png  Cavitry\n",
       "2   Cavitry 10.png  Cavitry\n",
       "3  Cavitry 100.png  Cavitry\n",
       "4  Cavitry 101.png  Cavitry\n",
       "5  Cavitry 102.png  Cavitry\n",
       "6  Cavitry 103.png  Cavitry\n",
       "7  Cavitry 104.png  Cavitry\n",
       "8  Cavitry 105.png  Cavitry\n",
       "9  Cavitry 106.png  Cavitry"
      ]
     },
     "execution_count": 24,
     "metadata": {},
     "output_type": "execute_result"
    }
   ],
   "source": [
    "# Train DataFrame\n",
    "df.head(10)"
   ]
  },
  {
   "cell_type": "code",
   "execution_count": 25,
   "metadata": {},
   "outputs": [
    {
     "data": {
      "text/plain": [
       "array(['Cavitry', 'Millary', 'Normal'], dtype=object)"
      ]
     },
     "execution_count": 25,
     "metadata": {},
     "output_type": "execute_result"
    }
   ],
   "source": [
    "# Classes in Train Data\n",
    "df.category.unique()"
   ]
  },
  {
   "cell_type": "code",
   "execution_count": 26,
   "metadata": {},
   "outputs": [
    {
     "data": {
      "text/plain": [
       "<matplotlib.axes._subplots.AxesSubplot at 0x1ebb3ebf048>"
      ]
     },
     "execution_count": 26,
     "metadata": {},
     "output_type": "execute_result"
    },
    {
     "data": {
      "image/png": "[encoded data removed]",
      "text/plain": [
       "<Figure size 432x288 with 1 Axes>"
      ]
     },
     "metadata": {
      "needs_background": "light"
     },
     "output_type": "display_data"
    }
   ],
   "source": [
    "#Check if Classes are balanced\n",
    "df['category'].value_counts().plot.bar()"
   ]
  },
  {
   "cell_type": "code",
   "execution_count": 27,
   "metadata": {},
   "outputs": [],
   "source": [
    "#Parameters to reshape images before passing to model\n",
    "IMAGE_WIDTH=128\n",
    "IMAGE_HEIGHT=128\n",
    "IMAGE_SIZE=(IMAGE_WIDTH, IMAGE_HEIGHT)\n",
    "IMAGE_CHANNELS=3\n",
    "batch_size=10"
   ]
  },
  {
   "cell_type": "code",
   "execution_count": 28,
   "metadata": {},
   "outputs": [],
   "source": [
    "#SPlit Train and Validation data\n",
    "train_df, validate_df = train_test_split(df, test_size=0.20, random_state=42, stratify=df[['category']])\n",
    "train_df = train_df.reset_index(drop=True)\n",
    "validate_df = validate_df.reset_index(drop=True)"
   ]
  },
  {
   "cell_type": "code",
   "execution_count": 29,
   "metadata": {},
   "outputs": [],
   "source": [
    "#Size of train and validation data\n",
    "total_train = train_df.shape[0]\n",
    "total_validate = validate_df.shape[0]"
   ]
  },
  {
   "cell_type": "code",
   "execution_count": 30,
   "metadata": {},
   "outputs": [
    {
     "name": "stdout",
     "output_type": "stream",
     "text": [
      "Found 2400 validated image filenames belonging to 3 classes.\n",
      "Found 600 validated image filenames belonging to 3 classes.\n"
     ]
    }
   ],
   "source": [
    "# Data Generators for train and Validation\n",
    "\n",
    "datagen = ImageDataGenerator(\n",
    "    rotation_range=10,\n",
    "    rescale=1./255,\n",
    "    shear_range=0.1,\n",
    "    zoom_range=0.1,\n",
    "    horizontal_flip=True,\n",
    "    width_shift_range=0.1,\n",
    "    height_shift_range=0.1\n",
    ")\n",
    "\n",
    "\n",
    "train_generator = datagen.flow_from_dataframe(\n",
    "    train_df,\n",
    "    dataset_path_train,\n",
    "    x_col='filename',\n",
    "    y_col='category',\n",
    "    target_size=IMAGE_SIZE,\n",
    "    class_mode='categorical',\n",
    "    batch_size=batch_size\n",
    ")\n",
    "\n",
    "\n",
    "validation_generator = datagen.flow_from_dataframe(\n",
    "    validate_df, \n",
    "    dataset_path_train,\n",
    "    x_col='filename',\n",
    "    y_col='category',\n",
    "    target_size=IMAGE_SIZE,\n",
    "    class_mode='categorical',\n",
    "    batch_size=batch_size\n",
    ")"
   ]
  },
  {
   "cell_type": "code",
   "execution_count": 31,
   "metadata": {},
   "outputs": [],
   "source": [
    "#creates model \n",
    "\n",
    "def create_model():\n",
    "    kernel_size = (3,3)\n",
    "    pool_size= (2,2)\n",
    "    first_filters = 32\n",
    "    second_filters = 64\n",
    "    third_filters = 128\n",
    "    fourth_filters = 256\n",
    "\n",
    "    dropout_conv = 0.1\n",
    "\n",
    "    dropout_dense = 0.2\n",
    "\n",
    "\n",
    "    model = Sequential()\n",
    "    model.add(Conv2D(first_filters, kernel_size, activation = 'relu', input_shape = (IMAGE_HEIGHT, IMAGE_WIDTH, 3)))\n",
    "    model.add(Conv2D(first_filters, kernel_size, activation = 'relu'))\n",
    "    model.add(Conv2D(first_filters, kernel_size, activation = 'relu'))\n",
    "    model.add(MaxPooling2D(pool_size = pool_size)) \n",
    "    model.add(Dropout(dropout_conv))\n",
    "\n",
    "    model.add(Conv2D(second_filters, kernel_size, activation ='relu'))\n",
    "    model.add(Conv2D(second_filters, kernel_size, activation ='relu'))\n",
    "    model.add(Conv2D(second_filters, kernel_size, activation ='relu'))\n",
    "    model.add(MaxPooling2D(pool_size = pool_size))\n",
    "    model.add(Dropout(dropout_conv))\n",
    "\n",
    "    model.add(Conv2D(third_filters, kernel_size, activation ='relu'))\n",
    "    model.add(Conv2D(third_filters, kernel_size, activation ='relu'))\n",
    "    model.add(Conv2D(third_filters, kernel_size, activation ='relu'))\n",
    "    model.add(MaxPooling2D(pool_size = pool_size))\n",
    "    model.add(Dropout(dropout_conv))\n",
    "\n",
    "    model.add(Flatten())\n",
    "    model.add(Dense(fourth_filters, activation = \"relu\"))\n",
    "    model.add(Dropout(dropout_dense))\n",
    "    model.add(Dense(3, activation = \"softmax\"))  # since we have 3 classes, normal, cavitry and millary\n",
    "\n",
    "    model.compile(optimizer='rmsprop', loss='categorical_crossentropy', \n",
    "                  metrics=['accuracy'])\n",
    "    return model\n",
    "    "
   ]
  },
  {
   "cell_type": "code",
   "execution_count": 32,
   "metadata": {},
   "outputs": [
    {
     "name": "stdout",
     "output_type": "stream",
     "text": [
      "Model: \"sequential_2\"\n",
      "_________________________________________________________________\n",
      "Layer (type)                 Output Shape              Param #   \n",
      "=================================================================\n",
      "conv2d_10 (Conv2D)           (None, 126, 126, 32)      896       \n",
      "_________________________________________________________________\n",
      "conv2d_11 (Conv2D)           (None, 124, 124, 32)      9248      \n",
      "_________________________________________________________________\n",
      "conv2d_12 (Conv2D)           (None, 122, 122, 32)      9248      \n",
      "_________________________________________________________________\n",
      "max_pooling2d_4 (MaxPooling2 (None, 61, 61, 32)        0         \n",
      "_________________________________________________________________\n",
      "dropout_5 (Dropout)          (None, 61, 61, 32)        0         \n",
      "_________________________________________________________________\n",
      "conv2d_13 (Conv2D)           (None, 59, 59, 64)        18496     \n",
      "_________________________________________________________________\n",
      "conv2d_14 (Conv2D)           (None, 57, 57, 64)        36928     \n",
      "_________________________________________________________________\n",
      "conv2d_15 (Conv2D)           (None, 55, 55, 64)        36928     \n",
      "_________________________________________________________________\n",
      "max_pooling2d_5 (MaxPooling2 (None, 27, 27, 64)        0         \n",
      "_________________________________________________________________\n",
      "dropout_6 (Dropout)          (None, 27, 27, 64)        0         \n",
      "_________________________________________________________________\n",
      "conv2d_16 (Conv2D)           (None, 25, 25, 128)       73856     \n",
      "_________________________________________________________________\n",
      "conv2d_17 (Conv2D)           (None, 23, 23, 128)       147584    \n",
      "_________________________________________________________________\n",
      "conv2d_18 (Conv2D)           (None, 21, 21, 128)       147584    \n",
      "_________________________________________________________________\n",
      "max_pooling2d_6 (MaxPooling2 (None, 10, 10, 128)       0         \n",
      "_________________________________________________________________\n",
      "dropout_7 (Dropout)          (None, 10, 10, 128)       0         \n",
      "_________________________________________________________________\n",
      "flatten_2 (Flatten)          (None, 12800)             0         \n",
      "_________________________________________________________________\n",
      "dense_3 (Dense)              (None, 256)               3277056   \n",
      "_________________________________________________________________\n",
      "dropout_8 (Dropout)          (None, 256)               0         \n",
      "_________________________________________________________________\n",
      "dense_4 (Dense)              (None, 3)                 771       \n",
      "=================================================================\n",
      "Total params: 3,758,595\n",
      "Trainable params: 3,758,595\n",
      "Non-trainable params: 0\n",
      "_________________________________________________________________\n"
     ]
    }
   ],
   "source": [
    "model = create_model()\n",
    "model.summary()"
   ]
  },
  {
   "cell_type": "code",
   "execution_count": 33,
   "metadata": {},
   "outputs": [],
   "source": [
    "# train and validation steps for train and validation\n",
    "\n",
    "train_batch_size = 20\n",
    "val_batch_size = 20\n",
    "\n",
    "\n",
    "train_steps = np.ceil(train_generator.samples / train_batch_size)\n",
    "val_steps = np.ceil(validation_generator.samples / val_batch_size)"
   ]
  },
  {
   "cell_type": "code",
   "execution_count": 34,
   "metadata": {},
   "outputs": [],
   "source": [
    "#Paramenter to train model\n",
    "no_epochs =  25\n",
    "shuffle = True\n",
    "verbose = 1\n",
    "save_weights_only = True\n",
    "save_best_only = True"
   ]
  },
  {
   "cell_type": "code",
   "execution_count": 35,
   "metadata": {
    "scrolled": false
   },
   "outputs": [
    {
     "name": "stdout",
     "output_type": "stream",
     "text": [
      "Epoch 1/25\n",
      "120/120 [==============================] - 337s 3s/step - loss: 1.1319 - accuracy: 0.3450 - val_loss: 1.0988 - val_accuracy: 0.3233\n",
      "Epoch 2/25\n",
      "120/120 [==============================] - 351s 3s/step - loss: 1.2091 - accuracy: 0.3708 - val_loss: 0.8124 - val_accuracy: 0.4700\n",
      "Epoch 3/25\n",
      "120/120 [==============================] - 291s 2s/step - loss: 1.0674 - accuracy: 0.4350 - val_loss: 1.0813 - val_accuracy: 0.4600\n",
      "Epoch 4/25\n",
      "120/120 [==============================] - 333s 3s/step - loss: 1.0404 - accuracy: 0.4583 - val_loss: 0.8456 - val_accuracy: 0.5900\n",
      "Epoch 5/25\n",
      "120/120 [==============================] - 290s 2s/step - loss: 0.8367 - accuracy: 0.6242 - val_loss: 0.5671 - val_accuracy: 0.7200\n",
      "Epoch 6/25\n",
      "120/120 [==============================] - 309s 3s/step - loss: 0.6929 - accuracy: 0.7017 - val_loss: 0.8437 - val_accuracy: 0.6933\n",
      "Epoch 7/25\n",
      "120/120 [==============================] - 287s 2s/step - loss: 0.6192 - accuracy: 0.7092 - val_loss: 0.7668 - val_accuracy: 0.7500\n",
      "Epoch 8/25\n",
      "120/120 [==============================] - 307s 3s/step - loss: 0.5554 - accuracy: 0.7658 - val_loss: 0.4730 - val_accuracy: 0.7500\n",
      "Epoch 9/25\n",
      "120/120 [==============================] - 293s 2s/step - loss: 0.5869 - accuracy: 0.7542 - val_loss: 0.8698 - val_accuracy: 0.7067\n",
      "Epoch 10/25\n",
      "120/120 [==============================] - 312s 3s/step - loss: 0.5247 - accuracy: 0.7675 - val_loss: 0.6448 - val_accuracy: 0.8167\n",
      "Epoch 11/25\n",
      "120/120 [==============================] - 286s 2s/step - loss: 0.4946 - accuracy: 0.7942 - val_loss: 0.5939 - val_accuracy: 0.7967\n",
      "Epoch 12/25\n",
      "120/120 [==============================] - 317s 3s/step - loss: 0.4710 - accuracy: 0.8342 - val_loss: 0.3323 - val_accuracy: 0.8367\n",
      "Epoch 13/25\n",
      "120/120 [==============================] - 294s 2s/step - loss: 0.4688 - accuracy: 0.8250 - val_loss: 0.5666 - val_accuracy: 0.7300\n",
      "Epoch 14/25\n",
      "120/120 [==============================] - 341s 3s/step - loss: 0.3777 - accuracy: 0.8458 - val_loss: 0.1373 - val_accuracy: 0.8400\n",
      "Epoch 15/25\n",
      "120/120 [==============================] - 312s 3s/step - loss: 0.4277 - accuracy: 0.8458 - val_loss: 0.0557 - val_accuracy: 0.8500\n",
      "Epoch 16/25\n",
      "120/120 [==============================] - 339s 3s/step - loss: 0.3872 - accuracy: 0.8567 - val_loss: 0.5049 - val_accuracy: 0.8433\n",
      "Epoch 17/25\n",
      "120/120 [==============================] - 301s 3s/step - loss: 0.3516 - accuracy: 0.8842 - val_loss: 0.1204 - val_accuracy: 0.8733\n",
      "Epoch 18/25\n",
      "120/120 [==============================] - 313s 3s/step - loss: 0.3643 - accuracy: 0.8542 - val_loss: 0.1280 - val_accuracy: 0.9033\n",
      "Epoch 19/25\n",
      "120/120 [==============================] - 284s 2s/step - loss: 0.3175 - accuracy: 0.8808 - val_loss: 1.1303 - val_accuracy: 0.7500\n",
      "Epoch 20/25\n",
      "120/120 [==============================] - 321s 3s/step - loss: 0.3426 - accuracy: 0.8817 - val_loss: 0.1792 - val_accuracy: 0.9067\n",
      "Epoch 21/25\n",
      "120/120 [==============================] - 303s 3s/step - loss: 0.2779 - accuracy: 0.9108 - val_loss: 0.0592 - val_accuracy: 0.9533\n",
      "Epoch 22/25\n",
      "120/120 [==============================] - 323s 3s/step - loss: 0.3375 - accuracy: 0.8875 - val_loss: 0.1298 - val_accuracy: 0.9167\n",
      "Epoch 23/25\n",
      "120/120 [==============================] - 280s 2s/step - loss: 0.3024 - accuracy: 0.8908 - val_loss: 0.0801 - val_accuracy: 0.9367\n",
      "Epoch 24/25\n",
      "120/120 [==============================] - 303s 3s/step - loss: 0.2508 - accuracy: 0.9142 - val_loss: 0.1017 - val_accuracy: 0.9467\n",
      "Epoch 25/25\n",
      "120/120 [==============================] - 324s 3s/step - loss: 0.2453 - accuracy: 0.9058 - val_loss: 0.0447 - val_accuracy: 0.9367\n"
     ]
    }
   ],
   "source": [
    "#train model\n",
    "\n",
    "model_checkpoint= ModelCheckpoint('ImageClassifierModel{epoch:02d}.h5',save_weights_only=save_weights_only, save_best_only=save_best_only, monitor='val_loss', mode='min')\n",
    "callbacks = [model_checkpoint]\n",
    "history = model.fit_generator(\n",
    "    train_generator, \n",
    "    epochs=no_epochs,\n",
    "    validation_data=validation_generator,\n",
    "    validation_steps=val_steps,\n",
    "    steps_per_epoch= train_steps, \n",
    "    verbose=verbose,\n",
    "    shuffle=shuffle,\n",
    "    callbacks = callbacks\n",
    "    \n",
    ")"
   ]
  },
  {
   "cell_type": "code",
   "execution_count": 53,
   "metadata": {},
   "outputs": [],
   "source": [
    "#save weights of best model\n",
    "model.save_weights(filepath='final_weight.h5')"
   ]
  },
  {
   "cell_type": "code",
   "execution_count": 54,
   "metadata": {},
   "outputs": [
    {
     "name": "stdout",
     "output_type": "stream",
     "text": [
      "dict_keys(['val_loss', 'val_accuracy', 'loss', 'accuracy'])\n"
     ]
    }
   ],
   "source": [
    "history_dict = history.history\n",
    "print(history_dict.keys())"
   ]
  },
  {
   "cell_type": "code",
   "execution_count": 55,
   "metadata": {},
   "outputs": [
    {
     "data": {
      "text/plain": [
       "<Figure size 432x288 with 0 Axes>"
      ]
     },
     "execution_count": 55,
     "metadata": {},
     "output_type": "execute_result"
    },
    {
     "data": {
      "image/png": "[encoded data removed]",
      "text/plain": [
       "<Figure size 432x288 with 1 Axes>"
      ]
     },
     "metadata": {
      "needs_background": "light"
     },
     "output_type": "display_data"
    },
    {
     "data": {
      "image/png": "[encoded data removed]",
      "text/plain": [
       "<Figure size 432x288 with 1 Axes>"
      ]
     },
     "metadata": {
      "needs_background": "light"
     },
     "output_type": "display_data"
    },
    {
     "data": {
      "text/plain": [
       "<Figure size 432x288 with 0 Axes>"
      ]
     },
     "metadata": {},
     "output_type": "display_data"
    }
   ],
   "source": [
    "#Plot accuracy and validation loss\n",
    "\n",
    "acc = history_dict['accuracy']\n",
    "val_acc = history_dict['val_accuracy']\n",
    "loss = history_dict['loss']\n",
    "val_loss = history_dict['val_loss']\n",
    "\n",
    "epochs = range(1, len(acc) + 1)\n",
    "\n",
    "plt.plot(epochs, loss, 'bo', label='Training loss')\n",
    "plt.plot(epochs, val_loss, 'b', label='Validation loss')\n",
    "plt.title('Training and validation loss')\n",
    "plt.legend()\n",
    "plt.figure()\n",
    "\n",
    "plt.plot(epochs, acc, 'bo', label='Training acc')\n",
    "plt.plot(epochs, val_acc, 'b', label='Validation acc')\n",
    "plt.title('Training and validation accuracy')\n",
    "plt.legend()\n",
    "plt.figure()"
   ]
  },
  {
   "cell_type": "code",
   "execution_count": 72,
   "metadata": {},
   "outputs": [],
   "source": [
    "#Path for test data\n",
    "dataset_path_test = r\"Data Set\\Test\\testData\""
   ]
  },
  {
   "cell_type": "code",
   "execution_count": 73,
   "metadata": {},
   "outputs": [],
   "source": [
    "#DataFrame for test data\n",
    "filenames = os.listdir(dataset_path_test)\n",
    "categories = []\n",
    "for filename in filenames:\n",
    "    category = filename.split(\" \")[0]\n",
    "    if category == 'Normal':\n",
    "        categories.append('Normal')\n",
    "    elif category == 'Cavitry':\n",
    "        categories.append('Cavitry')\n",
    "    elif category == \"Millary\":\n",
    "        categories.append('Millary')\n",
    "\n",
    "df_test = pd.DataFrame({\n",
    "    'filename': filenames,\n",
    "    'category': categories\n",
    "})"
   ]
  },
  {
   "cell_type": "code",
   "execution_count": 74,
   "metadata": {},
   "outputs": [
    {
     "data": {
      "text/html": [
       "<div>\n",
       "<style scoped>\n",
       "    .dataframe tbody tr th:only-of-type {\n",
       "        vertical-align: middle;\n",
       "    }\n",
       "\n",
       "    .dataframe tbody tr th {\n",
       "        vertical-align: top;\n",
       "    }\n",
       "\n",
       "    .dataframe thead th {\n",
       "        text-align: right;\n",
       "    }\n",
       "</style>\n",
       "<table border=\"1\" class=\"dataframe\">\n",
       "  <thead>\n",
       "    <tr style=\"text-align: right;\">\n",
       "      <th></th>\n",
       "      <th>filename</th>\n",
       "      <th>category</th>\n",
       "    </tr>\n",
       "  </thead>\n",
       "  <tbody>\n",
       "    <tr>\n",
       "      <th>0</th>\n",
       "      <td>Cavitry 0.png</td>\n",
       "      <td>Cavitry</td>\n",
       "    </tr>\n",
       "    <tr>\n",
       "      <th>1</th>\n",
       "      <td>Cavitry 1.png</td>\n",
       "      <td>Cavitry</td>\n",
       "    </tr>\n",
       "    <tr>\n",
       "      <th>2</th>\n",
       "      <td>Cavitry 10.png</td>\n",
       "      <td>Cavitry</td>\n",
       "    </tr>\n",
       "    <tr>\n",
       "      <th>3</th>\n",
       "      <td>Cavitry 11.png</td>\n",
       "      <td>Cavitry</td>\n",
       "    </tr>\n",
       "    <tr>\n",
       "      <th>4</th>\n",
       "      <td>Cavitry 12.png</td>\n",
       "      <td>Cavitry</td>\n",
       "    </tr>\n",
       "    <tr>\n",
       "      <th>5</th>\n",
       "      <td>Cavitry 13.png</td>\n",
       "      <td>Cavitry</td>\n",
       "    </tr>\n",
       "    <tr>\n",
       "      <th>6</th>\n",
       "      <td>Cavitry 14.png</td>\n",
       "      <td>Cavitry</td>\n",
       "    </tr>\n",
       "    <tr>\n",
       "      <th>7</th>\n",
       "      <td>Cavitry 2.png</td>\n",
       "      <td>Cavitry</td>\n",
       "    </tr>\n",
       "    <tr>\n",
       "      <th>8</th>\n",
       "      <td>Cavitry 3.png</td>\n",
       "      <td>Cavitry</td>\n",
       "    </tr>\n",
       "    <tr>\n",
       "      <th>9</th>\n",
       "      <td>Cavitry 4.png</td>\n",
       "      <td>Cavitry</td>\n",
       "    </tr>\n",
       "  </tbody>\n",
       "</table>\n",
       "</div>"
      ],
      "text/plain": [
       "         filename category\n",
       "0   Cavitry 0.png  Cavitry\n",
       "1   Cavitry 1.png  Cavitry\n",
       "2  Cavitry 10.png  Cavitry\n",
       "3  Cavitry 11.png  Cavitry\n",
       "4  Cavitry 12.png  Cavitry\n",
       "5  Cavitry 13.png  Cavitry\n",
       "6  Cavitry 14.png  Cavitry\n",
       "7   Cavitry 2.png  Cavitry\n",
       "8   Cavitry 3.png  Cavitry\n",
       "9   Cavitry 4.png  Cavitry"
      ]
     },
     "execution_count": 74,
     "metadata": {},
     "output_type": "execute_result"
    }
   ],
   "source": [
    "df_test.head(10)"
   ]
  },
  {
   "cell_type": "code",
   "execution_count": 75,
   "metadata": {},
   "outputs": [
    {
     "data": {
      "text/plain": [
       "array(['Cavitry', 'Millary', 'Normal'], dtype=object)"
      ]
     },
     "execution_count": 75,
     "metadata": {},
     "output_type": "execute_result"
    }
   ],
   "source": [
    "df_test.category.unique()"
   ]
  },
  {
   "cell_type": "code",
   "execution_count": 76,
   "metadata": {},
   "outputs": [
    {
     "data": {
      "text/plain": [
       "<matplotlib.axes._subplots.AxesSubplot at 0x1ebb42f6788>"
      ]
     },
     "execution_count": 76,
     "metadata": {},
     "output_type": "execute_result"
    },
    {
     "data": {
      "image/png": "[encoded data removed]",
      "text/plain": [
       "<Figure size 432x288 with 1 Axes>"
      ]
     },
     "metadata": {
      "needs_background": "light"
     },
     "output_type": "display_data"
    }
   ],
   "source": [
    "df_test['category'].value_counts().plot.bar()"
   ]
  },
  {
   "cell_type": "code",
   "execution_count": 77,
   "metadata": {},
   "outputs": [
    {
     "name": "stdout",
     "output_type": "stream",
     "text": [
      "Found 60 validated image filenames belonging to 3 classes.\n"
     ]
    }
   ],
   "source": [
    "#Data generator for test data\n",
    "\n",
    "dataGen_test = ImageDataGenerator(\n",
    "            rescale=1./255,\n",
    "        )\n",
    "\n",
    "test_generator = dataGen_test.flow_from_dataframe(\n",
    "    df_test, \n",
    "    dataset_path_test,\n",
    "    x_col='filename',\n",
    "    y_col='category',\n",
    "    target_size=IMAGE_SIZE,\n",
    "    class_mode='categorical',\n",
    "    batch_size=batch_size,\n",
    "    shuffle=False\n",
    ")"
   ]
  },
  {
   "cell_type": "code",
   "execution_count": 78,
   "metadata": {},
   "outputs": [],
   "source": [
    "#load weights of best model\n",
    "model.load_weights('final_weight.h5')"
   ]
  },
  {
   "cell_type": "code",
   "execution_count": 79,
   "metadata": {
    "scrolled": true
   },
   "outputs": [
    {
     "name": "stdout",
     "output_type": "stream",
     "text": [
      "test_loss: 0.007808114401996136\n",
      "test_acc: 0.7833333611488342\n"
     ]
    }
   ],
   "source": [
    "#Evaluate model on test data\n",
    "test_loss, test_acc = model.evaluate_generator(test_generator)\n",
    "\n",
    "print('test_loss:', test_loss)\n",
    "print('test_acc:', test_acc)"
   ]
  },
  {
   "cell_type": "code",
   "execution_count": 80,
   "metadata": {},
   "outputs": [],
   "source": [
    "# Get target label names in numerical order of model\n",
    "target_names = np.empty([1, 3],dtype=object)[0]\n",
    "for key , value in test_generator.class_indices.items():\n",
    "    target_names[value] =  key\n",
    "target_names = list(target_names)"
   ]
  },
  {
   "cell_type": "code",
   "execution_count": 81,
   "metadata": {},
   "outputs": [
    {
     "name": "stdout",
     "output_type": "stream",
     "text": [
      "Confusion Matrix\n"
     ]
    },
    {
     "data": {
      "text/html": [
       "<div>\n",
       "<style scoped>\n",
       "    .dataframe tbody tr th:only-of-type {\n",
       "        vertical-align: middle;\n",
       "    }\n",
       "\n",
       "    .dataframe tbody tr th {\n",
       "        vertical-align: top;\n",
       "    }\n",
       "\n",
       "    .dataframe thead th {\n",
       "        text-align: right;\n",
       "    }\n",
       "</style>\n",
       "<table border=\"1\" class=\"dataframe\">\n",
       "  <thead>\n",
       "    <tr style=\"text-align: right;\">\n",
       "      <th></th>\n",
       "      <th>Cavitry</th>\n",
       "      <th>Millary</th>\n",
       "      <th>Normal</th>\n",
       "    </tr>\n",
       "  </thead>\n",
       "  <tbody>\n",
       "    <tr>\n",
       "      <th>Cavitry</th>\n",
       "      <td>6</td>\n",
       "      <td>0</td>\n",
       "      <td>9</td>\n",
       "    </tr>\n",
       "    <tr>\n",
       "      <th>Millary</th>\n",
       "      <td>0</td>\n",
       "      <td>15</td>\n",
       "      <td>0</td>\n",
       "    </tr>\n",
       "    <tr>\n",
       "      <th>Normal</th>\n",
       "      <td>3</td>\n",
       "      <td>1</td>\n",
       "      <td>26</td>\n",
       "    </tr>\n",
       "  </tbody>\n",
       "</table>\n",
       "</div>"
      ],
      "text/plain": [
       "         Cavitry  Millary  Normal\n",
       "Cavitry        6        0       9\n",
       "Millary        0       15       0\n",
       "Normal         3        1      26"
      ]
     },
     "execution_count": 81,
     "metadata": {},
     "output_type": "execute_result"
    }
   ],
   "source": [
    "#Confution Matrix using predict generator\n",
    "\n",
    "Y_pred = model.predict_generator(test_generator)\n",
    "y_pred = np.argmax(Y_pred, axis=1)\n",
    "cnf_matrix = confusion_matrix(test_generator.classes, y_pred)\n",
    "\n",
    "confusion_matrix = pd.DataFrame(cnf_matrix, columns = target_names, index= target_names)\n",
    "print('Confusion Matrix')\n",
    "confusion_matrix\n"
   ]
  },
  {
   "cell_type": "code",
   "execution_count": 82,
   "metadata": {},
   "outputs": [],
   "source": [
    "FP = cnf_matrix.sum(axis=0) - np.diag(cnf_matrix)  \n",
    "FN = cnf_matrix.sum(axis=1) - np.diag(cnf_matrix)\n",
    "TP = np.diag(cnf_matrix)\n",
    "TN = cnf_matrix.sum() - (FP + FN + TP)\n",
    "\n",
    "FP = FP.astype(float)\n",
    "FN = FN.astype(float)\n",
    "TP = TP.astype(float)\n",
    "TN = TN.astype(float)\n",
    "\n",
    "# true positive rate\n",
    "TPR = TP/(TP+FN)\n",
    "# false poitive rate\n",
    "FPR = FP/(FP+TN) \n",
    "# Precision or positive predictive value\n",
    "PPV = TP/(TP+FP)\n",
    "# Negative predictive value\n",
    "TNR = TN/(TN+FN)\n",
    "# False negative rate\n",
    "FNR = FN/(TP+FN)\n",
    "ERR = (FP+FN)/(TP+FP+FN+TN)\n",
    "# Overall accuracy\n",
    "ACC = (TP+TN)/(TP+FP+FN+TN)"
   ]
  },
  {
   "cell_type": "code",
   "execution_count": 83,
   "metadata": {},
   "outputs": [],
   "source": [
    "Multiclass_Evaluation_Matrix = pd.DataFrame([FP,FN,TP,TN, TPR , FPR , TNR,FNR,ERR,  ACC], columns = target_names, index= ['False Positive', 'Fase Negitive', 'True Positive', 'True Negetive', 'True Positive Rate', 'False Positive Rate', 'True Negetiev Rate','False Negetive rate', 'Error Rate','Accuracy'])"
   ]
  },
  {
   "cell_type": "code",
   "execution_count": 84,
   "metadata": {},
   "outputs": [
    {
     "data": {
      "text/html": [
       "<div>\n",
       "<style scoped>\n",
       "    .dataframe tbody tr th:only-of-type {\n",
       "        vertical-align: middle;\n",
       "    }\n",
       "\n",
       "    .dataframe tbody tr th {\n",
       "        vertical-align: top;\n",
       "    }\n",
       "\n",
       "    .dataframe thead th {\n",
       "        text-align: right;\n",
       "    }\n",
       "</style>\n",
       "<table border=\"1\" class=\"dataframe\">\n",
       "  <thead>\n",
       "    <tr style=\"text-align: right;\">\n",
       "      <th></th>\n",
       "      <th>Cavitry</th>\n",
       "      <th>Millary</th>\n",
       "      <th>Normal</th>\n",
       "    </tr>\n",
       "  </thead>\n",
       "  <tbody>\n",
       "    <tr>\n",
       "      <th>False Positive</th>\n",
       "      <td>3.000000</td>\n",
       "      <td>1.000000</td>\n",
       "      <td>9.000000</td>\n",
       "    </tr>\n",
       "    <tr>\n",
       "      <th>Fase Negitive</th>\n",
       "      <td>9.000000</td>\n",
       "      <td>0.000000</td>\n",
       "      <td>4.000000</td>\n",
       "    </tr>\n",
       "    <tr>\n",
       "      <th>True Positive</th>\n",
       "      <td>6.000000</td>\n",
       "      <td>15.000000</td>\n",
       "      <td>26.000000</td>\n",
       "    </tr>\n",
       "    <tr>\n",
       "      <th>True Negetive</th>\n",
       "      <td>42.000000</td>\n",
       "      <td>44.000000</td>\n",
       "      <td>21.000000</td>\n",
       "    </tr>\n",
       "    <tr>\n",
       "      <th>True Positive Rate</th>\n",
       "      <td>0.400000</td>\n",
       "      <td>1.000000</td>\n",
       "      <td>0.866667</td>\n",
       "    </tr>\n",
       "    <tr>\n",
       "      <th>False Positive Rate</th>\n",
       "      <td>0.066667</td>\n",
       "      <td>0.022222</td>\n",
       "      <td>0.300000</td>\n",
       "    </tr>\n",
       "    <tr>\n",
       "      <th>True Negetiev Rate</th>\n",
       "      <td>0.823529</td>\n",
       "      <td>1.000000</td>\n",
       "      <td>0.840000</td>\n",
       "    </tr>\n",
       "    <tr>\n",
       "      <th>False Negetive rate</th>\n",
       "      <td>0.600000</td>\n",
       "      <td>0.000000</td>\n",
       "      <td>0.133333</td>\n",
       "    </tr>\n",
       "    <tr>\n",
       "      <th>Error Rate</th>\n",
       "      <td>0.200000</td>\n",
       "      <td>0.016667</td>\n",
       "      <td>0.216667</td>\n",
       "    </tr>\n",
       "    <tr>\n",
       "      <th>Accuracy</th>\n",
       "      <td>0.800000</td>\n",
       "      <td>0.983333</td>\n",
       "      <td>0.783333</td>\n",
       "    </tr>\n",
       "  </tbody>\n",
       "</table>\n",
       "</div>"
      ],
      "text/plain": [
       "                       Cavitry    Millary     Normal\n",
       "False Positive        3.000000   1.000000   9.000000\n",
       "Fase Negitive         9.000000   0.000000   4.000000\n",
       "True Positive         6.000000  15.000000  26.000000\n",
       "True Negetive        42.000000  44.000000  21.000000\n",
       "True Positive Rate    0.400000   1.000000   0.866667\n",
       "False Positive Rate   0.066667   0.022222   0.300000\n",
       "True Negetiev Rate    0.823529   1.000000   0.840000\n",
       "False Negetive rate   0.600000   0.000000   0.133333\n",
       "Error Rate            0.200000   0.016667   0.216667\n",
       "Accuracy              0.800000   0.983333   0.783333"
      ]
     },
     "execution_count": 84,
     "metadata": {},
     "output_type": "execute_result"
    }
   ],
   "source": [
    "#Evaluation Matrix\n",
    "Multiclass_Evaluation_Matrix"
   ]
  },
  {
   "cell_type": "code",
   "execution_count": 85,
   "metadata": {},
   "outputs": [
    {
     "name": "stdout",
     "output_type": "stream",
     "text": [
      "Classification Report\n",
      "              precision    recall  f1-score   support\n",
      "\n",
      "     Cavitry       0.67      0.40      0.50        15\n",
      "     Millary       0.94      1.00      0.97        15\n",
      "      Normal       0.74      0.87      0.80        30\n",
      "\n",
      "    accuracy                           0.78        60\n",
      "   macro avg       0.78      0.76      0.76        60\n",
      "weighted avg       0.77      0.78      0.77        60\n",
      "\n"
     ]
    }
   ],
   "source": [
    "#Classification Report\n",
    "print('Classification Report')\n",
    "target_names = np.empty([1, 3],dtype=object)[0]\n",
    "for key , value in test_generator.class_indices.items():\n",
    "    target_names[value] =  key\n",
    "target_names = list(target_names)\n",
    "print(classification_report(test_generator.classes, y_pred, target_names=target_names))"
   ]
  }
 ],
 "metadata": {
  "kernelspec": {
   "display_name": "Python 3",
   "language": "python",
   "name": "python3"
  },
  "language_info": {
   "codemirror_mode": {
    "name": "ipython",
    "version": 3
   },
   "file_extension": ".py",
   "mimetype": "text/x-python",
   "name": "python",
   "nbconvert_exporter": "python",
   "pygments_lexer": "ipython3",
   "version": "3.7.7"
  }
 },
 "nbformat": 4,
 "nbformat_minor": 2
}
